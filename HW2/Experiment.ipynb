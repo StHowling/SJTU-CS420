{
 "cells": [
  {
   "cell_type": "code",
   "execution_count": 51,
   "metadata": {},
   "outputs": [],
   "source": [
    "from matplotlib import pyplot as plt\n",
    "from itertools import cycle, islice\n",
    "from scipy import linalg\n",
    "import numpy as np\n",
    "\n",
    "color_iter = cycle(['#377eb8', '#ff7f00', '#4daf4a',\n",
    "                                                '#f781bf', '#a65628', '#984ea3',\n",
    "                                                '#999999', '#e41a1c', '#dede00'])\n",
    "\n",
    "def plot(X, y_sp, y_km, gmm):\n",
    "    plt.figure(figsize=(12, 4))\n",
    "    colors = np.array(list(islice(cycle(['#377eb8', '#ff7f00', '#4daf4a',\n",
    "                                                '#f781bf', '#a65628', '#984ea3',\n",
    "                                                '#999999', '#e41a1c', '#dede00']),\n",
    "                                        int(max(y_km) + 1))))\n",
    "    plt.subplot(131)\n",
    "    plt.scatter(X[:,0], X[:,1], s=10, color=colors[y_sp])\n",
    "    plt.title(\"Spectral Clustering\")\n",
    "    plt.subplot(132)\n",
    "    plt.scatter(X[:,0], X[:,1], s=10, color=colors[y_km])\n",
    "    plt.title(\"Kmeans Clustering\")\n",
    "    plt.subplot(133)\n",
    "    Y_ = gmm.predict(X)\n",
    "    for i, (mean, cov, color) in enumerate(zip(gmm.means_, gmm.covariances_,\n",
    "                                           color_iter)):\n",
    "        v, w = linalg.eigh(cov)\n",
    "        if not np.any(Y_ == i):\n",
    "            continue\n",
    "        plt.scatter(X[Y_ == i, 0], X[Y_ == i, 1],8, color=color)\n",
    "    plt.title(\"GMM Clustering\")\n",
    "    # plt.show()\n",
    "    plt.savefig(\"./figure/spectral_clustering_separatedguassian1.png\")"
   ]
  },
  {
   "cell_type": "code",
   "execution_count": 15,
   "metadata": {},
   "outputs": [],
   "source": [
    "from sklearn.mixture import GaussianMixture"
   ]
  },
  {
   "cell_type": "code",
   "execution_count": 44,
   "metadata": {},
   "outputs": [],
   "source": [
    "def genTwoCircles(n_samples=1000):\n",
    "    X,y = datasets.make_circles(n_samples, factor=0.5, noise=0.05)\n",
    "    return X, y\n",
    "\n",
    "def genTwoMoons(n_samples=1000):\n",
    "    X,y = datasets.make_moons(n_samples, noise=0.05)\n",
    "    return X,y\n",
    "\n",
    "def genTwoGaussians(n_samples=1000):\n",
    "    np.random.seed(0)\n",
    "    C = np.array([[0.5, -0.1], [.7, 1.4]])\n",
    "    X = np.r_[np.dot(np.random.randn(n_samples, 2), C),\n",
    "          .7 * np.random.randn(n_samples, 2) + np.array([-6, 3]),\n",
    "         .5 * np.random.randn(n_samples, 2) + np.array([-8, -4])]\n",
    "    return X,C"
   ]
  },
  {
   "cell_type": "code",
   "execution_count": null,
   "metadata": {},
   "outputs": [],
   "source": [
    "from utils.similarity import calEuclidDistanceMatrix\n",
    "from utils.knn import myKNN\n",
    "from utils.laplacian import calLaplacianMatrix\n",
    "# from utils.dataloader import genTwoMoons\n",
    "# from utils.ploter import plot\n",
    "from sklearn.cluster import KMeans,spectral_clustering\n",
    "import numpy as np\n",
    "np.random.seed(1)\n",
    "\n",
    "data, label = genTwoGaussians(n_samples=500)\n",
    "\n",
    "Similarity = calEuclidDistanceMatrix(data)\n",
    "\n",
    "Adjacent = myKNN(Similarity, k=8)\n",
    "\n",
    "Laplacian = calLaplacianMatrix(Adjacent)\n",
    "\n",
    "x, V = np.linalg.eig(Laplacian)\n",
    "\n",
    "x = zip(x, range(len(x)))\n",
    "x = sorted(x, key=lambda x:x[0])\n",
    "\n",
    "H = np.vstack([V[:,i] for (v, i) in x[:500]]).T\n",
    "\n",
    "# sp_kmeans = KMeans(n_clusters=3).fit(H)\n",
    "sp_kmeans = spectral_clustering(n_clusters=3,assign_labels='kmeans',affinity='nearest_neighbors').fit(data)\n",
    "\n",
    "pure_kmeans = KMeans(n_clusters=3).fit(data)\n",
    "\n",
    "gmm = GaussianMixture(n_components=3).fit(data)\n",
    "\n",
    "plot(data, sp_kmeans.labels_, pure_kmeans.labels_,gmm)"
   ]
  },
  {
   "cell_type": "code",
   "execution_count": 109,
   "metadata": {},
   "outputs": [],
   "source": [
    "from sklearn.decomposition import FactorAnalysis\n",
    "from sklearn.model_selection import cross_val_score\n",
    "\n",
    "def gen_dataset(n_samples, snr, rank,n_features=10):\n",
    "    U, S, _ = linalg.svd(np.random.randn(n_features, n_features))\n",
    "    sigma = S[-1]/(snr-1)\n",
    "    X = np.dot(np.random.randn(n_samples, rank), U[:, :rank].T)\n",
    "    X = X+ np.random.randn(n_samples, n_features)*sigma\n",
    "    \n",
    "    return X\n",
    "\n",
    "sample_size=[25,50,100,250,500,1000]\n",
    "SNR=[1.2,1.5,2,2.5,3,3.5,4,8,16]\n",
    "#3,5,7]\n",
    "\n",
    "def compute_scores(X,n_features=10):\n",
    "    fa = FactorAnalysis()\n",
    "    n_components = np.arange(1, 10)\n",
    "    aic , bic = [], []\n",
    "    for n in n_components:\n",
    "        fa.n_components = n\n",
    "        fa.fit(X)\n",
    "#         print(fa.score(X))\n",
    "        aic.append(  fa.score(X) * X.shape[0] -  n*n_features)\n",
    "        bic.append( fa.score(X) * X.shape[0] -0.5*\n",
    "                n*n_features * np.log(X.shape[0]))\n",
    "\n",
    "    return aic,bic\n"
   ]
  },
  {
   "cell_type": "code",
   "execution_count": 131,
   "metadata": {},
   "outputs": [],
   "source": [
    "y_dim=[7]"
   ]
  },
  {
   "cell_type": "code",
   "execution_count": 132,
   "metadata": {
    "scrolled": true
   },
   "outputs": [],
   "source": [
    "log = []\n",
    "for i in sample_size:\n",
    "    for j in SNR:\n",
    "        for l in y_dim:\n",
    "            aic_success = 0\n",
    "            bic_success = 0\n",
    "            for k in range(100):\n",
    "                X=gen_dataset(n_samples=i,snr=j,rank=l)\n",
    "                aic,bic=compute_scores(X)\n",
    "                if l == np.argmax(np.array(aic))+1:\n",
    "                    aic_success+=1\n",
    "                if l == np.argmax(np.array(bic))+1:\n",
    "                    bic_success+=1\n",
    "            log.append((i,j,l,aic_success/100,bic_success/100))"
   ]
  },
  {
   "cell_type": "code",
   "execution_count": 133,
   "metadata": {},
   "outputs": [
    {
     "name": "stderr",
     "output_type": "stream",
     "text": [
      "C:\\Users\\StHow\\anaconda3\\lib\\site-packages\\ipykernel_launcher.py:10: DeprecationWarning: elementwise comparison failed; this will raise an error in the future.\n",
      "  # Remove the CWD from sys.path while we load stuff.\n"
     ]
    },
    {
     "data": {
      "image/png": "[encoded data removed]",
      "text/plain": [
       "<Figure size 432x288 with 1 Axes>"
      ]
     },
     "metadata": {
      "needs_background": "light"
     },
     "output_type": "display_data"
    }
   ],
   "source": [
    "z_aic,z_bic=[],[]\n",
    "for i in range(len(log)):\n",
    "#     if log[i][2]==3:\n",
    "    \n",
    "    z_aic.append(log[i][3])\n",
    "    z_bic.append(log[i][4])\n",
    "\n",
    "x=np.arange(1,7)\n",
    "y=np.arange(1,10)\n",
    "x,y== np.meshgrid(x,y)\n",
    "z_aic=np.array(z_aic).reshape(6,9)\n",
    "contour=plt.contour(y,x,z_aic,colors='k')\n",
    "plt.clabel(contour,fontsize=6,colors=('r'))\n",
    "plt.ylabel('Sample size index')\n",
    "plt.xlabel('SNR index')\n",
    "plt.savefig('figure/aic_7.pdf')"
   ]
  },
  {
   "cell_type": "code",
   "execution_count": 134,
   "metadata": {},
   "outputs": [
    {
     "data": {
      "image/png": "[encoded data removed]",
      "text/plain": [
       "<Figure size 432x288 with 1 Axes>"
      ]
     },
     "metadata": {
      "needs_background": "light"
     },
     "output_type": "display_data"
    }
   ],
   "source": [
    "z_bic=np.array(z_bic).reshape(6,9)\n",
    "contour=plt.contour(y,x,z_bic,colors='k')\n",
    "plt.clabel(contour,fontsize=6,colors=('r'))\n",
    "plt.ylabel('Sample size index')\n",
    "plt.xlabel('SNR index')\n",
    "plt.savefig('figure/bic_7.pdf')"
   ]
  },
  {
   "cell_type": "code",
   "execution_count": 130,
   "metadata": {},
   "outputs": [
    {
     "data": {
      "text/plain": [
       "[(25, 1.2, 5, 0.26, 0.23),\n",
       " (25, 1.5, 5, 0.51, 0.44),\n",
       " (25, 2, 5, 0.79, 0.71),\n",
       " (25, 2.5, 5, 0.92, 0.82),\n",
       " (25, 3, 5, 0.95, 0.91),\n",
       " (25, 3.5, 5, 0.97, 0.98),\n",
       " (25, 4, 5, 1.0, 0.99),\n",
       " (25, 8, 5, 1.0, 1.0),\n",
       " (25, 16, 5, 1.0, 1.0),\n",
       " (50, 1.2, 5, 0.31, 0.24),\n",
       " (50, 1.5, 5, 0.64, 0.56),\n",
       " (50, 2, 5, 0.97, 0.86),\n",
       " (50, 2.5, 5, 1.0, 0.95),\n",
       " (50, 3, 5, 1.0, 0.99),\n",
       " (50, 3.5, 5, 0.99, 1.0),\n",
       " (50, 4, 5, 0.99, 1.0),\n",
       " (50, 8, 5, 1.0, 1.0),\n",
       " (50, 16, 5, 1.0, 1.0),\n",
       " (100, 1.2, 5, 0.38, 0.28),\n",
       " (100, 1.5, 5, 0.73, 0.58),\n",
       " (100, 2, 5, 0.99, 0.85),\n",
       " (100, 2.5, 5, 1.0, 0.97),\n",
       " (100, 3, 5, 1.0, 0.99),\n",
       " (100, 3.5, 5, 0.99, 1.0),\n",
       " (100, 4, 5, 1.0, 1.0),\n",
       " (100, 8, 5, 0.99, 1.0),\n",
       " (100, 16, 5, 1.0, 1.0),\n",
       " (250, 1.2, 5, 0.54, 0.41),\n",
       " (250, 1.5, 5, 0.92, 0.76),\n",
       " (250, 2, 5, 1.0, 0.99),\n",
       " (250, 2.5, 5, 1.0, 1.0),\n",
       " (250, 3, 5, 1.0, 1.0),\n",
       " (250, 3.5, 5, 1.0, 1.0),\n",
       " (250, 4, 5, 1.0, 1.0),\n",
       " (250, 8, 5, 1.0, 1.0),\n",
       " (250, 16, 5, 1.0, 1.0),\n",
       " (500, 1.2, 5, 0.61, 0.48),\n",
       " (500, 1.5, 5, 0.98, 0.85),\n",
       " (500, 2, 5, 0.99, 0.99),\n",
       " (500, 2.5, 5, 1.0, 1.0),\n",
       " (500, 3, 5, 1.0, 1.0),\n",
       " (500, 3.5, 5, 0.99, 1.0),\n",
       " (500, 4, 5, 1.0, 1.0),\n",
       " (500, 8, 5, 1.0, 1.0),\n",
       " (500, 16, 5, 0.99, 1.0),\n",
       " (1000, 1.2, 5, 0.71, 0.58),\n",
       " (1000, 1.5, 5, 0.98, 0.91),\n",
       " (1000, 2, 5, 1.0, 1.0),\n",
       " (1000, 2.5, 5, 1.0, 1.0),\n",
       " (1000, 3, 5, 1.0, 1.0),\n",
       " (1000, 3.5, 5, 1.0, 1.0),\n",
       " (1000, 4, 5, 1.0, 1.0),\n",
       " (1000, 8, 5, 0.99, 1.0),\n",
       " (1000, 16, 5, 1.0, 1.0)]"
      ]
     },
     "execution_count": 130,
     "metadata": {},
     "output_type": "execute_result"
    }
   ],
   "source": [
    "log"
   ]
  }
 ],
 "metadata": {
  "kernelspec": {
   "display_name": "Python 3",
   "language": "python",
   "name": "python3"
  },
  "language_info": {
   "codemirror_mode": {
    "name": "ipython",
    "version": 3
   },
   "file_extension": ".py",
   "mimetype": "text/x-python",
   "name": "python",
   "nbconvert_exporter": "python",
   "pygments_lexer": "ipython3",
   "version": "3.7.6"
  }
 },
 "nbformat": 4,
 "nbformat_minor": 4
}
